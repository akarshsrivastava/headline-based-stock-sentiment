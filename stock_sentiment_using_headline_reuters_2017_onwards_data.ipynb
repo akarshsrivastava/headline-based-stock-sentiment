{
 "cells": [
  {
   "cell_type": "markdown",
   "metadata": {},
   "source": [
    "## 1: Import libraries and dataset\n",
    "### 1.1: Importing libraries"
   ]
  },
  {
   "cell_type": "code",
   "execution_count": 132,
   "metadata": {},
   "outputs": [
    {
     "name": "stderr",
     "output_type": "stream",
     "text": [
      "[nltk_data] Downloading package stopwords to\n",
      "[nltk_data]     C:\\Users\\Admin\\AppData\\Roaming\\nltk_data...\n",
      "[nltk_data]   Package stopwords is already up-to-date!\n"
     ]
    },
    {
     "data": {
      "text/plain": [
       "True"
      ]
     },
     "execution_count": 132,
     "metadata": {},
     "output_type": "execute_result"
    }
   ],
   "source": [
    "import pandas as pd\n",
    "import numpy as np\n",
    "import matplotlib.pyplot as plt\n",
    "import pickle\n",
    "import re\n",
    "import nltk\n",
    "from nltk.corpus import stopwords\n",
    "from nltk.stem.porter import PorterStemmer\n",
    "ps=PorterStemmer()\n",
    "#nltk.download('stopwords')"
   ]
  },
  {
   "cell_type": "markdown",
   "metadata": {},
   "source": [
    "### 1.2: Importing the dataset "
   ]
  },
  {
   "cell_type": "code",
   "execution_count": 183,
   "metadata": {},
   "outputs": [],
   "source": [
    "df = pd.read_csv('reuters_data.csv', encoding='ISO-8859-1')"
   ]
  },
  {
   "cell_type": "code",
   "execution_count": 184,
   "metadata": {},
   "outputs": [
    {
     "data": {
      "text/html": [
       "<div>\n",
       "<style scoped>\n",
       "    .dataframe tbody tr th:only-of-type {\n",
       "        vertical-align: middle;\n",
       "    }\n",
       "\n",
       "    .dataframe tbody tr th {\n",
       "        vertical-align: top;\n",
       "    }\n",
       "\n",
       "    .dataframe thead th {\n",
       "        text-align: right;\n",
       "    }\n",
       "</style>\n",
       "<table border=\"1\" class=\"dataframe\">\n",
       "  <thead>\n",
       "    <tr style=\"text-align: right;\">\n",
       "      <th></th>\n",
       "      <th>Unnamed: 0</th>\n",
       "      <th>raw_header</th>\n",
       "      <th>reuters_url</th>\n",
       "      <th>stock</th>\n",
       "      <th>article_publish_date</th>\n",
       "      <th>full_article</th>\n",
       "      <th>processed_header</th>\n",
       "      <th>neg</th>\n",
       "      <th>neu</th>\n",
       "      <th>pos</th>\n",
       "      <th>compound</th>\n",
       "    </tr>\n",
       "  </thead>\n",
       "  <tbody>\n",
       "    <tr>\n",
       "      <th>0</th>\n",
       "      <td>0</td>\n",
       "      <td>BRIEF-Agilent Technologies Q2 GAAP Earnings Pe...</td>\n",
       "      <td>https://www.reuters.com/article/brief-agilent-...</td>\n",
       "      <td>A</td>\n",
       "      <td>2020-05-21 20:26:54+00:00</td>\n",
       "      <td>May 21 (Reuters) - Agilent Technologies Inc:\\n...</td>\n",
       "      <td>Agilent Technologies Q2 GAAP Earnings Per Shar...</td>\n",
       "      <td>0.000</td>\n",
       "      <td>0.761</td>\n",
       "      <td>0.239</td>\n",
       "      <td>0.2960</td>\n",
       "    </tr>\n",
       "    <tr>\n",
       "      <th>1</th>\n",
       "      <td>1</td>\n",
       "      <td>BRIEF-Agilent PD-L1 Assay Receives FDA Approva...</td>\n",
       "      <td>https://www.reuters.com/article/brief-agilent-...</td>\n",
       "      <td>A</td>\n",
       "      <td>2020-05-18 12:04:40+00:00</td>\n",
       "      <td>May 18 (Reuters) - Agilent Technologies Inc:\\n...</td>\n",
       "      <td>Agilent PD-L1 Assay Receives FDA Approval For ...</td>\n",
       "      <td>0.000</td>\n",
       "      <td>0.763</td>\n",
       "      <td>0.237</td>\n",
       "      <td>0.4767</td>\n",
       "    </tr>\n",
       "    <tr>\n",
       "      <th>2</th>\n",
       "      <td>2</td>\n",
       "      <td>BRIEF-Agilent Gets FDA Approval For Pd-L1 Comp...</td>\n",
       "      <td>https://www.reuters.com/article/brief-agilent-...</td>\n",
       "      <td>A</td>\n",
       "      <td>2020-04-23 12:18:06+00:00</td>\n",
       "      <td>April 23 (Reuters) - Agilent Technologies Inc:...</td>\n",
       "      <td>Agilent Gets FDA Approval For Pd-L1 Companion ...</td>\n",
       "      <td>0.000</td>\n",
       "      <td>0.763</td>\n",
       "      <td>0.237</td>\n",
       "      <td>0.4767</td>\n",
       "    </tr>\n",
       "    <tr>\n",
       "      <th>3</th>\n",
       "      <td>3</td>\n",
       "      <td>BRIEF-Agilent Technologies Enters Into Amendme...</td>\n",
       "      <td>https://www.reuters.com/article/brief-agilent-...</td>\n",
       "      <td>A</td>\n",
       "      <td>2020-04-20 20:53:23+00:00</td>\n",
       "      <td>April 20 (Reuters) - Agilent Technologies Inc:...</td>\n",
       "      <td>Agilent Technologies Enters Into Amendment No....</td>\n",
       "      <td>0.000</td>\n",
       "      <td>0.580</td>\n",
       "      <td>0.420</td>\n",
       "      <td>0.7003</td>\n",
       "    </tr>\n",
       "    <tr>\n",
       "      <th>4</th>\n",
       "      <td>4</td>\n",
       "      <td>BRIEF-Agilent withdraws Q2, FY guidance, cites...</td>\n",
       "      <td>https://www.reuters.com/article/brief-agilent-...</td>\n",
       "      <td>A</td>\n",
       "      <td>2020-04-14 12:04:44+00:00</td>\n",
       "      <td>April 14 (Reuters) - Agilent Technologies Inc:...</td>\n",
       "      <td>Agilent withdraws Q2, FY guidance, cites coron...</td>\n",
       "      <td>0.000</td>\n",
       "      <td>1.000</td>\n",
       "      <td>0.000</td>\n",
       "      <td>0.0000</td>\n",
       "    </tr>\n",
       "    <tr>\n",
       "      <th>...</th>\n",
       "      <td>...</td>\n",
       "      <td>...</td>\n",
       "      <td>...</td>\n",
       "      <td>...</td>\n",
       "      <td>...</td>\n",
       "      <td>...</td>\n",
       "      <td>...</td>\n",
       "      <td>...</td>\n",
       "      <td>...</td>\n",
       "      <td>...</td>\n",
       "      <td>...</td>\n",
       "    </tr>\n",
       "    <tr>\n",
       "      <th>108857</th>\n",
       "      <td>110111</td>\n",
       "      <td>BRIEF-Zumiez Inc September sales rose 12.6 per...</td>\n",
       "      <td>https://www.reuters.com/article/brief-zumiez-i...</td>\n",
       "      <td>ZUMZ</td>\n",
       "      <td>2017-10-04 20:03:04+00:00</td>\n",
       "      <td>Oct 4 (Reuters) - Zumiez Inc\\n\\n* Zumiez Inc. ...</td>\n",
       "      <td>Zumiez Inc September sales rose 12.6 percent t...</td>\n",
       "      <td>0.000</td>\n",
       "      <td>1.000</td>\n",
       "      <td>0.000</td>\n",
       "      <td>0.0000</td>\n",
       "    </tr>\n",
       "    <tr>\n",
       "      <th>108858</th>\n",
       "      <td>110112</td>\n",
       "      <td>BRIEF-Zumiez Inc Q2 loss per share $0.02</td>\n",
       "      <td>https://www.reuters.com/article/brief-zumiez-i...</td>\n",
       "      <td>ZUMZ</td>\n",
       "      <td>2017-09-07 20:12:25+00:00</td>\n",
       "      <td>Sept 8 (Reuters) - Zumiez Inc\\n\\n* Zumiez Inc ...</td>\n",
       "      <td>Zumiez Inc Q2 loss per share $0.02</td>\n",
       "      <td>0.242</td>\n",
       "      <td>0.526</td>\n",
       "      <td>0.232</td>\n",
       "      <td>-0.0258</td>\n",
       "    </tr>\n",
       "    <tr>\n",
       "      <th>108859</th>\n",
       "      <td>110113</td>\n",
       "      <td>BRIEF-Zumiez net sales increased 8.9 pct to $6...</td>\n",
       "      <td>https://www.reuters.com/article/brief-zumiez-n...</td>\n",
       "      <td>ZUMZ</td>\n",
       "      <td>2017-08-02 20:04:51+00:00</td>\n",
       "      <td>Aug 2 (Reuters) - Zumiez Inc\\n\\n* Zumiez Inc. ...</td>\n",
       "      <td>Zumiez net sales increased 8.9 pct to $67.5 mi...</td>\n",
       "      <td>0.000</td>\n",
       "      <td>0.792</td>\n",
       "      <td>0.208</td>\n",
       "      <td>0.2732</td>\n",
       "    </tr>\n",
       "    <tr>\n",
       "      <th>108860</th>\n",
       "      <td>110114</td>\n",
       "      <td>BRIEF-Man Group reports 5.63 pct passive stake...</td>\n",
       "      <td>https://www.reuters.com/article/brief-man-grou...</td>\n",
       "      <td>ZUMZ</td>\n",
       "      <td>2017-07-31 20:57:50+00:00</td>\n",
       "      <td>July 31 (Reuters) - Zumiez Inc-\\n\\n* Man Group...</td>\n",
       "      <td>Man Group reports 5.63 pct passive stake in Zu...</td>\n",
       "      <td>0.000</td>\n",
       "      <td>0.816</td>\n",
       "      <td>0.184</td>\n",
       "      <td>0.2023</td>\n",
       "    </tr>\n",
       "    <tr>\n",
       "      <th>108861</th>\n",
       "      <td>110115</td>\n",
       "      <td>BRIEF-Zumiez June same store sales rises 5.3 p...</td>\n",
       "      <td>https://www.reuters.com/article/brief-zumiez-j...</td>\n",
       "      <td>ZUMZ</td>\n",
       "      <td>2017-07-05 20:03:14+00:00</td>\n",
       "      <td>July 5 (Reuters) - Zumiez Inc:\\n\\n* Zumiez Inc...</td>\n",
       "      <td>Zumiez June same store sales rises 5.3 percent</td>\n",
       "      <td>0.000</td>\n",
       "      <td>1.000</td>\n",
       "      <td>0.000</td>\n",
       "      <td>0.0000</td>\n",
       "    </tr>\n",
       "  </tbody>\n",
       "</table>\n",
       "<p>108862 rows × 11 columns</p>\n",
       "</div>"
      ],
      "text/plain": [
       "        Unnamed: 0                                         raw_header  \\\n",
       "0                0  BRIEF-Agilent Technologies Q2 GAAP Earnings Pe...   \n",
       "1                1  BRIEF-Agilent PD-L1 Assay Receives FDA Approva...   \n",
       "2                2  BRIEF-Agilent Gets FDA Approval For Pd-L1 Comp...   \n",
       "3                3  BRIEF-Agilent Technologies Enters Into Amendme...   \n",
       "4                4  BRIEF-Agilent withdraws Q2, FY guidance, cites...   \n",
       "...            ...                                                ...   \n",
       "108857      110111  BRIEF-Zumiez Inc September sales rose 12.6 per...   \n",
       "108858      110112           BRIEF-Zumiez Inc Q2 loss per share $0.02   \n",
       "108859      110113  BRIEF-Zumiez net sales increased 8.9 pct to $6...   \n",
       "108860      110114  BRIEF-Man Group reports 5.63 pct passive stake...   \n",
       "108861      110115  BRIEF-Zumiez June same store sales rises 5.3 p...   \n",
       "\n",
       "                                              reuters_url stock  \\\n",
       "0       https://www.reuters.com/article/brief-agilent-...     A   \n",
       "1       https://www.reuters.com/article/brief-agilent-...     A   \n",
       "2       https://www.reuters.com/article/brief-agilent-...     A   \n",
       "3       https://www.reuters.com/article/brief-agilent-...     A   \n",
       "4       https://www.reuters.com/article/brief-agilent-...     A   \n",
       "...                                                   ...   ...   \n",
       "108857  https://www.reuters.com/article/brief-zumiez-i...  ZUMZ   \n",
       "108858  https://www.reuters.com/article/brief-zumiez-i...  ZUMZ   \n",
       "108859  https://www.reuters.com/article/brief-zumiez-n...  ZUMZ   \n",
       "108860  https://www.reuters.com/article/brief-man-grou...  ZUMZ   \n",
       "108861  https://www.reuters.com/article/brief-zumiez-j...  ZUMZ   \n",
       "\n",
       "             article_publish_date  \\\n",
       "0       2020-05-21 20:26:54+00:00   \n",
       "1       2020-05-18 12:04:40+00:00   \n",
       "2       2020-04-23 12:18:06+00:00   \n",
       "3       2020-04-20 20:53:23+00:00   \n",
       "4       2020-04-14 12:04:44+00:00   \n",
       "...                           ...   \n",
       "108857  2017-10-04 20:03:04+00:00   \n",
       "108858  2017-09-07 20:12:25+00:00   \n",
       "108859  2017-08-02 20:04:51+00:00   \n",
       "108860  2017-07-31 20:57:50+00:00   \n",
       "108861  2017-07-05 20:03:14+00:00   \n",
       "\n",
       "                                             full_article  \\\n",
       "0       May 21 (Reuters) - Agilent Technologies Inc:\\n...   \n",
       "1       May 18 (Reuters) - Agilent Technologies Inc:\\n...   \n",
       "2       April 23 (Reuters) - Agilent Technologies Inc:...   \n",
       "3       April 20 (Reuters) - Agilent Technologies Inc:...   \n",
       "4       April 14 (Reuters) - Agilent Technologies Inc:...   \n",
       "...                                                   ...   \n",
       "108857  Oct 4 (Reuters) - Zumiez Inc\\n\\n* Zumiez Inc. ...   \n",
       "108858  Sept 8 (Reuters) - Zumiez Inc\\n\\n* Zumiez Inc ...   \n",
       "108859  Aug 2 (Reuters) - Zumiez Inc\\n\\n* Zumiez Inc. ...   \n",
       "108860  July 31 (Reuters) - Zumiez Inc-\\n\\n* Man Group...   \n",
       "108861  July 5 (Reuters) - Zumiez Inc:\\n\\n* Zumiez Inc...   \n",
       "\n",
       "                                         processed_header    neg    neu  \\\n",
       "0       Agilent Technologies Q2 GAAP Earnings Per Shar...  0.000  0.761   \n",
       "1       Agilent PD-L1 Assay Receives FDA Approval For ...  0.000  0.763   \n",
       "2       Agilent Gets FDA Approval For Pd-L1 Companion ...  0.000  0.763   \n",
       "3       Agilent Technologies Enters Into Amendment No....  0.000  0.580   \n",
       "4       Agilent withdraws Q2, FY guidance, cites coron...  0.000  1.000   \n",
       "...                                                   ...    ...    ...   \n",
       "108857  Zumiez Inc September sales rose 12.6 percent t...  0.000  1.000   \n",
       "108858                 Zumiez Inc Q2 loss per share $0.02  0.242  0.526   \n",
       "108859  Zumiez net sales increased 8.9 pct to $67.5 mi...  0.000  0.792   \n",
       "108860  Man Group reports 5.63 pct passive stake in Zu...  0.000  0.816   \n",
       "108861     Zumiez June same store sales rises 5.3 percent  0.000  1.000   \n",
       "\n",
       "          pos  compound  \n",
       "0       0.239    0.2960  \n",
       "1       0.237    0.4767  \n",
       "2       0.237    0.4767  \n",
       "3       0.420    0.7003  \n",
       "4       0.000    0.0000  \n",
       "...       ...       ...  \n",
       "108857  0.000    0.0000  \n",
       "108858  0.232   -0.0258  \n",
       "108859  0.208    0.2732  \n",
       "108860  0.184    0.2023  \n",
       "108861  0.000    0.0000  \n",
       "\n",
       "[108862 rows x 11 columns]"
      ]
     },
     "execution_count": 184,
     "metadata": {},
     "output_type": "execute_result"
    }
   ],
   "source": [
    "df"
   ]
  },
  {
   "cell_type": "code",
   "execution_count": 185,
   "metadata": {},
   "outputs": [
    {
     "data": {
      "text/html": [
       "<div>\n",
       "<style scoped>\n",
       "    .dataframe tbody tr th:only-of-type {\n",
       "        vertical-align: middle;\n",
       "    }\n",
       "\n",
       "    .dataframe tbody tr th {\n",
       "        vertical-align: top;\n",
       "    }\n",
       "\n",
       "    .dataframe thead th {\n",
       "        text-align: right;\n",
       "    }\n",
       "</style>\n",
       "<table border=\"1\" class=\"dataframe\">\n",
       "  <thead>\n",
       "    <tr style=\"text-align: right;\">\n",
       "      <th></th>\n",
       "      <th>Unnamed: 0</th>\n",
       "      <th>raw_header</th>\n",
       "      <th>reuters_url</th>\n",
       "      <th>stock</th>\n",
       "      <th>article_publish_date</th>\n",
       "      <th>full_article</th>\n",
       "      <th>processed_header</th>\n",
       "      <th>neg</th>\n",
       "      <th>neu</th>\n",
       "      <th>pos</th>\n",
       "      <th>compound</th>\n",
       "    </tr>\n",
       "  </thead>\n",
       "  <tbody>\n",
       "    <tr>\n",
       "      <th>0</th>\n",
       "      <td>0</td>\n",
       "      <td>BRIEF-Agilent Technologies Q2 GAAP Earnings Pe...</td>\n",
       "      <td>https://www.reuters.com/article/brief-agilent-...</td>\n",
       "      <td>A</td>\n",
       "      <td>2020-05-21 20:26:54+00:00</td>\n",
       "      <td>May 21 (Reuters) - Agilent Technologies Inc:\\n...</td>\n",
       "      <td>Agilent Technologies Q2 GAAP Earnings Per Shar...</td>\n",
       "      <td>0.0</td>\n",
       "      <td>0.761</td>\n",
       "      <td>0.239</td>\n",
       "      <td>0.2960</td>\n",
       "    </tr>\n",
       "    <tr>\n",
       "      <th>1</th>\n",
       "      <td>1</td>\n",
       "      <td>BRIEF-Agilent PD-L1 Assay Receives FDA Approva...</td>\n",
       "      <td>https://www.reuters.com/article/brief-agilent-...</td>\n",
       "      <td>A</td>\n",
       "      <td>2020-05-18 12:04:40+00:00</td>\n",
       "      <td>May 18 (Reuters) - Agilent Technologies Inc:\\n...</td>\n",
       "      <td>Agilent PD-L1 Assay Receives FDA Approval For ...</td>\n",
       "      <td>0.0</td>\n",
       "      <td>0.763</td>\n",
       "      <td>0.237</td>\n",
       "      <td>0.4767</td>\n",
       "    </tr>\n",
       "    <tr>\n",
       "      <th>2</th>\n",
       "      <td>2</td>\n",
       "      <td>BRIEF-Agilent Gets FDA Approval For Pd-L1 Comp...</td>\n",
       "      <td>https://www.reuters.com/article/brief-agilent-...</td>\n",
       "      <td>A</td>\n",
       "      <td>2020-04-23 12:18:06+00:00</td>\n",
       "      <td>April 23 (Reuters) - Agilent Technologies Inc:...</td>\n",
       "      <td>Agilent Gets FDA Approval For Pd-L1 Companion ...</td>\n",
       "      <td>0.0</td>\n",
       "      <td>0.763</td>\n",
       "      <td>0.237</td>\n",
       "      <td>0.4767</td>\n",
       "    </tr>\n",
       "    <tr>\n",
       "      <th>3</th>\n",
       "      <td>3</td>\n",
       "      <td>BRIEF-Agilent Technologies Enters Into Amendme...</td>\n",
       "      <td>https://www.reuters.com/article/brief-agilent-...</td>\n",
       "      <td>A</td>\n",
       "      <td>2020-04-20 20:53:23+00:00</td>\n",
       "      <td>April 20 (Reuters) - Agilent Technologies Inc:...</td>\n",
       "      <td>Agilent Technologies Enters Into Amendment No....</td>\n",
       "      <td>0.0</td>\n",
       "      <td>0.580</td>\n",
       "      <td>0.420</td>\n",
       "      <td>0.7003</td>\n",
       "    </tr>\n",
       "    <tr>\n",
       "      <th>4</th>\n",
       "      <td>4</td>\n",
       "      <td>BRIEF-Agilent withdraws Q2, FY guidance, cites...</td>\n",
       "      <td>https://www.reuters.com/article/brief-agilent-...</td>\n",
       "      <td>A</td>\n",
       "      <td>2020-04-14 12:04:44+00:00</td>\n",
       "      <td>April 14 (Reuters) - Agilent Technologies Inc:...</td>\n",
       "      <td>Agilent withdraws Q2, FY guidance, cites coron...</td>\n",
       "      <td>0.0</td>\n",
       "      <td>1.000</td>\n",
       "      <td>0.000</td>\n",
       "      <td>0.0000</td>\n",
       "    </tr>\n",
       "  </tbody>\n",
       "</table>\n",
       "</div>"
      ],
      "text/plain": [
       "   Unnamed: 0                                         raw_header  \\\n",
       "0           0  BRIEF-Agilent Technologies Q2 GAAP Earnings Pe...   \n",
       "1           1  BRIEF-Agilent PD-L1 Assay Receives FDA Approva...   \n",
       "2           2  BRIEF-Agilent Gets FDA Approval For Pd-L1 Comp...   \n",
       "3           3  BRIEF-Agilent Technologies Enters Into Amendme...   \n",
       "4           4  BRIEF-Agilent withdraws Q2, FY guidance, cites...   \n",
       "\n",
       "                                         reuters_url stock  \\\n",
       "0  https://www.reuters.com/article/brief-agilent-...     A   \n",
       "1  https://www.reuters.com/article/brief-agilent-...     A   \n",
       "2  https://www.reuters.com/article/brief-agilent-...     A   \n",
       "3  https://www.reuters.com/article/brief-agilent-...     A   \n",
       "4  https://www.reuters.com/article/brief-agilent-...     A   \n",
       "\n",
       "        article_publish_date  \\\n",
       "0  2020-05-21 20:26:54+00:00   \n",
       "1  2020-05-18 12:04:40+00:00   \n",
       "2  2020-04-23 12:18:06+00:00   \n",
       "3  2020-04-20 20:53:23+00:00   \n",
       "4  2020-04-14 12:04:44+00:00   \n",
       "\n",
       "                                        full_article  \\\n",
       "0  May 21 (Reuters) - Agilent Technologies Inc:\\n...   \n",
       "1  May 18 (Reuters) - Agilent Technologies Inc:\\n...   \n",
       "2  April 23 (Reuters) - Agilent Technologies Inc:...   \n",
       "3  April 20 (Reuters) - Agilent Technologies Inc:...   \n",
       "4  April 14 (Reuters) - Agilent Technologies Inc:...   \n",
       "\n",
       "                                    processed_header  neg    neu    pos  \\\n",
       "0  Agilent Technologies Q2 GAAP Earnings Per Shar...  0.0  0.761  0.239   \n",
       "1  Agilent PD-L1 Assay Receives FDA Approval For ...  0.0  0.763  0.237   \n",
       "2  Agilent Gets FDA Approval For Pd-L1 Companion ...  0.0  0.763  0.237   \n",
       "3  Agilent Technologies Enters Into Amendment No....  0.0  0.580  0.420   \n",
       "4  Agilent withdraws Q2, FY guidance, cites coron...  0.0  1.000  0.000   \n",
       "\n",
       "   compound  \n",
       "0    0.2960  \n",
       "1    0.4767  \n",
       "2    0.4767  \n",
       "3    0.7003  \n",
       "4    0.0000  "
      ]
     },
     "execution_count": 185,
     "metadata": {},
     "output_type": "execute_result"
    }
   ],
   "source": [
    "df.head()"
   ]
  },
  {
   "cell_type": "markdown",
   "metadata": {},
   "source": [
    "### 1.3: Check if the data consist of any null values"
   ]
  },
  {
   "cell_type": "code",
   "execution_count": 226,
   "metadata": {},
   "outputs": [
    {
     "data": {
      "text/plain": [
       "Unnamed: 0              False\n",
       "raw_header              False\n",
       "reuters_url             False\n",
       "stock                   False\n",
       "article_publish_date    False\n",
       "full_article            False\n",
       "processed_header        False\n",
       "neg                     False\n",
       "neu                     False\n",
       "pos                     False\n",
       "compound                False\n",
       "dtype: bool"
      ]
     },
     "execution_count": 226,
     "metadata": {},
     "output_type": "execute_result"
    }
   ],
   "source": [
    "df.isnull().any()"
   ]
  },
  {
   "cell_type": "markdown",
   "metadata": {},
   "source": [
    "## 2: Data preprocessing \n",
    "\n",
    "### 2.1: We will create a dataset with only 'processed_header' and 'compound' feature"
   ]
  },
  {
   "cell_type": "code",
   "execution_count": 221,
   "metadata": {},
   "outputs": [
    {
     "data": {
      "text/html": [
       "<div>\n",
       "<style scoped>\n",
       "    .dataframe tbody tr th:only-of-type {\n",
       "        vertical-align: middle;\n",
       "    }\n",
       "\n",
       "    .dataframe tbody tr th {\n",
       "        vertical-align: top;\n",
       "    }\n",
       "\n",
       "    .dataframe thead th {\n",
       "        text-align: right;\n",
       "    }\n",
       "</style>\n",
       "<table border=\"1\" class=\"dataframe\">\n",
       "  <thead>\n",
       "    <tr style=\"text-align: right;\">\n",
       "      <th></th>\n",
       "      <th>processed_header</th>\n",
       "      <th>compound</th>\n",
       "    </tr>\n",
       "  </thead>\n",
       "  <tbody>\n",
       "    <tr>\n",
       "      <th>0</th>\n",
       "      <td>Agilent Technologies Q2 GAAP Earnings Per Shar...</td>\n",
       "      <td>0.2960</td>\n",
       "    </tr>\n",
       "    <tr>\n",
       "      <th>1</th>\n",
       "      <td>Agilent PD-L1 Assay Receives FDA Approval For ...</td>\n",
       "      <td>0.4767</td>\n",
       "    </tr>\n",
       "    <tr>\n",
       "      <th>2</th>\n",
       "      <td>Agilent Gets FDA Approval For Pd-L1 Companion ...</td>\n",
       "      <td>0.4767</td>\n",
       "    </tr>\n",
       "    <tr>\n",
       "      <th>3</th>\n",
       "      <td>Agilent Technologies Enters Into Amendment No....</td>\n",
       "      <td>0.7003</td>\n",
       "    </tr>\n",
       "    <tr>\n",
       "      <th>4</th>\n",
       "      <td>Agilent withdraws Q2, FY guidance, cites coron...</td>\n",
       "      <td>0.0000</td>\n",
       "    </tr>\n",
       "    <tr>\n",
       "      <th>...</th>\n",
       "      <td>...</td>\n",
       "      <td>...</td>\n",
       "    </tr>\n",
       "    <tr>\n",
       "      <th>108857</th>\n",
       "      <td>Zumiez Inc September sales rose 12.6 percent t...</td>\n",
       "      <td>0.0000</td>\n",
       "    </tr>\n",
       "    <tr>\n",
       "      <th>108858</th>\n",
       "      <td>Zumiez Inc Q2 loss per share $0.02</td>\n",
       "      <td>-0.0258</td>\n",
       "    </tr>\n",
       "    <tr>\n",
       "      <th>108859</th>\n",
       "      <td>Zumiez net sales increased 8.9 pct to $67.5 mi...</td>\n",
       "      <td>0.2732</td>\n",
       "    </tr>\n",
       "    <tr>\n",
       "      <th>108860</th>\n",
       "      <td>Man Group reports 5.63 pct passive stake in Zu...</td>\n",
       "      <td>0.2023</td>\n",
       "    </tr>\n",
       "    <tr>\n",
       "      <th>108861</th>\n",
       "      <td>Zumiez June same store sales rises 5.3 percent</td>\n",
       "      <td>0.0000</td>\n",
       "    </tr>\n",
       "  </tbody>\n",
       "</table>\n",
       "<p>108862 rows × 2 columns</p>\n",
       "</div>"
      ],
      "text/plain": [
       "                                         processed_header  compound\n",
       "0       Agilent Technologies Q2 GAAP Earnings Per Shar...    0.2960\n",
       "1       Agilent PD-L1 Assay Receives FDA Approval For ...    0.4767\n",
       "2       Agilent Gets FDA Approval For Pd-L1 Companion ...    0.4767\n",
       "3       Agilent Technologies Enters Into Amendment No....    0.7003\n",
       "4       Agilent withdraws Q2, FY guidance, cites coron...    0.0000\n",
       "...                                                   ...       ...\n",
       "108857  Zumiez Inc September sales rose 12.6 percent t...    0.0000\n",
       "108858                 Zumiez Inc Q2 loss per share $0.02   -0.0258\n",
       "108859  Zumiez net sales increased 8.9 pct to $67.5 mi...    0.2732\n",
       "108860  Man Group reports 5.63 pct passive stake in Zu...    0.2023\n",
       "108861     Zumiez June same store sales rises 5.3 percent    0.0000\n",
       "\n",
       "[108862 rows x 2 columns]"
      ]
     },
     "execution_count": 221,
     "metadata": {},
     "output_type": "execute_result"
    }
   ],
   "source": [
    "data = df.loc[:,['processed_header','compound']]\n",
    "data"
   ]
  },
  {
   "cell_type": "markdown",
   "metadata": {},
   "source": [
    "### 2.2: Renaming the column headers with new names"
   ]
  },
  {
   "cell_type": "code",
   "execution_count": 222,
   "metadata": {},
   "outputs": [
    {
     "data": {
      "text/html": [
       "<div>\n",
       "<style scoped>\n",
       "    .dataframe tbody tr th:only-of-type {\n",
       "        vertical-align: middle;\n",
       "    }\n",
       "\n",
       "    .dataframe tbody tr th {\n",
       "        vertical-align: top;\n",
       "    }\n",
       "\n",
       "    .dataframe thead th {\n",
       "        text-align: right;\n",
       "    }\n",
       "</style>\n",
       "<table border=\"1\" class=\"dataframe\">\n",
       "  <thead>\n",
       "    <tr style=\"text-align: right;\">\n",
       "      <th></th>\n",
       "      <th>headline</th>\n",
       "      <th>confidence</th>\n",
       "    </tr>\n",
       "  </thead>\n",
       "  <tbody>\n",
       "    <tr>\n",
       "      <th>0</th>\n",
       "      <td>Agilent Technologies Q2 GAAP Earnings Per Shar...</td>\n",
       "      <td>0.2960</td>\n",
       "    </tr>\n",
       "    <tr>\n",
       "      <th>1</th>\n",
       "      <td>Agilent PD-L1 Assay Receives FDA Approval For ...</td>\n",
       "      <td>0.4767</td>\n",
       "    </tr>\n",
       "    <tr>\n",
       "      <th>2</th>\n",
       "      <td>Agilent Gets FDA Approval For Pd-L1 Companion ...</td>\n",
       "      <td>0.4767</td>\n",
       "    </tr>\n",
       "    <tr>\n",
       "      <th>3</th>\n",
       "      <td>Agilent Technologies Enters Into Amendment No....</td>\n",
       "      <td>0.7003</td>\n",
       "    </tr>\n",
       "    <tr>\n",
       "      <th>4</th>\n",
       "      <td>Agilent withdraws Q2, FY guidance, cites coron...</td>\n",
       "      <td>0.0000</td>\n",
       "    </tr>\n",
       "    <tr>\n",
       "      <th>...</th>\n",
       "      <td>...</td>\n",
       "      <td>...</td>\n",
       "    </tr>\n",
       "    <tr>\n",
       "      <th>108857</th>\n",
       "      <td>Zumiez Inc September sales rose 12.6 percent t...</td>\n",
       "      <td>0.0000</td>\n",
       "    </tr>\n",
       "    <tr>\n",
       "      <th>108858</th>\n",
       "      <td>Zumiez Inc Q2 loss per share $0.02</td>\n",
       "      <td>-0.0258</td>\n",
       "    </tr>\n",
       "    <tr>\n",
       "      <th>108859</th>\n",
       "      <td>Zumiez net sales increased 8.9 pct to $67.5 mi...</td>\n",
       "      <td>0.2732</td>\n",
       "    </tr>\n",
       "    <tr>\n",
       "      <th>108860</th>\n",
       "      <td>Man Group reports 5.63 pct passive stake in Zu...</td>\n",
       "      <td>0.2023</td>\n",
       "    </tr>\n",
       "    <tr>\n",
       "      <th>108861</th>\n",
       "      <td>Zumiez June same store sales rises 5.3 percent</td>\n",
       "      <td>0.0000</td>\n",
       "    </tr>\n",
       "  </tbody>\n",
       "</table>\n",
       "<p>108862 rows × 2 columns</p>\n",
       "</div>"
      ],
      "text/plain": [
       "                                                 headline  confidence\n",
       "0       Agilent Technologies Q2 GAAP Earnings Per Shar...      0.2960\n",
       "1       Agilent PD-L1 Assay Receives FDA Approval For ...      0.4767\n",
       "2       Agilent Gets FDA Approval For Pd-L1 Companion ...      0.4767\n",
       "3       Agilent Technologies Enters Into Amendment No....      0.7003\n",
       "4       Agilent withdraws Q2, FY guidance, cites coron...      0.0000\n",
       "...                                                   ...         ...\n",
       "108857  Zumiez Inc September sales rose 12.6 percent t...      0.0000\n",
       "108858                 Zumiez Inc Q2 loss per share $0.02     -0.0258\n",
       "108859  Zumiez net sales increased 8.9 pct to $67.5 mi...      0.2732\n",
       "108860  Man Group reports 5.63 pct passive stake in Zu...      0.2023\n",
       "108861     Zumiez June same store sales rises 5.3 percent      0.0000\n",
       "\n",
       "[108862 rows x 2 columns]"
      ]
     },
     "execution_count": 222,
     "metadata": {},
     "output_type": "execute_result"
    }
   ],
   "source": [
    "new_header=['headline', 'confidence']\n",
    "data.columns = new_header\n",
    "data"
   ]
  },
  {
   "cell_type": "markdown",
   "metadata": {},
   "source": [
    "### Note: Create a function that will classify the stock into 3 classes based on confidence scores"
   ]
  },
  {
   "cell_type": "code",
   "execution_count": 190,
   "metadata": {},
   "outputs": [],
   "source": [
    "def classify(x):\n",
    "    if(x > 0.37):\n",
    "        return 1\n",
    "    elif(x < 0.37 and x > -0.30):\n",
    "        return 0\n",
    "    else:\n",
    "        return -1"
   ]
  },
  {
   "cell_type": "markdown",
   "metadata": {},
   "source": [
    "### 2.3: Applying the classifiy on each element of 'class' column through lambda function"
   ]
  },
  {
   "cell_type": "code",
   "execution_count": 223,
   "metadata": {},
   "outputs": [
    {
     "data": {
      "text/html": [
       "<div>\n",
       "<style scoped>\n",
       "    .dataframe tbody tr th:only-of-type {\n",
       "        vertical-align: middle;\n",
       "    }\n",
       "\n",
       "    .dataframe tbody tr th {\n",
       "        vertical-align: top;\n",
       "    }\n",
       "\n",
       "    .dataframe thead th {\n",
       "        text-align: right;\n",
       "    }\n",
       "</style>\n",
       "<table border=\"1\" class=\"dataframe\">\n",
       "  <thead>\n",
       "    <tr style=\"text-align: right;\">\n",
       "      <th></th>\n",
       "      <th>headline</th>\n",
       "      <th>confidence</th>\n",
       "      <th>class</th>\n",
       "    </tr>\n",
       "  </thead>\n",
       "  <tbody>\n",
       "    <tr>\n",
       "      <th>0</th>\n",
       "      <td>Agilent Technologies Q2 GAAP Earnings Per Shar...</td>\n",
       "      <td>0.2960</td>\n",
       "      <td>0</td>\n",
       "    </tr>\n",
       "    <tr>\n",
       "      <th>1</th>\n",
       "      <td>Agilent PD-L1 Assay Receives FDA Approval For ...</td>\n",
       "      <td>0.4767</td>\n",
       "      <td>1</td>\n",
       "    </tr>\n",
       "    <tr>\n",
       "      <th>2</th>\n",
       "      <td>Agilent Gets FDA Approval For Pd-L1 Companion ...</td>\n",
       "      <td>0.4767</td>\n",
       "      <td>1</td>\n",
       "    </tr>\n",
       "    <tr>\n",
       "      <th>3</th>\n",
       "      <td>Agilent Technologies Enters Into Amendment No....</td>\n",
       "      <td>0.7003</td>\n",
       "      <td>1</td>\n",
       "    </tr>\n",
       "    <tr>\n",
       "      <th>4</th>\n",
       "      <td>Agilent withdraws Q2, FY guidance, cites coron...</td>\n",
       "      <td>0.0000</td>\n",
       "      <td>0</td>\n",
       "    </tr>\n",
       "    <tr>\n",
       "      <th>...</th>\n",
       "      <td>...</td>\n",
       "      <td>...</td>\n",
       "      <td>...</td>\n",
       "    </tr>\n",
       "    <tr>\n",
       "      <th>108857</th>\n",
       "      <td>Zumiez Inc September sales rose 12.6 percent t...</td>\n",
       "      <td>0.0000</td>\n",
       "      <td>0</td>\n",
       "    </tr>\n",
       "    <tr>\n",
       "      <th>108858</th>\n",
       "      <td>Zumiez Inc Q2 loss per share $0.02</td>\n",
       "      <td>-0.0258</td>\n",
       "      <td>0</td>\n",
       "    </tr>\n",
       "    <tr>\n",
       "      <th>108859</th>\n",
       "      <td>Zumiez net sales increased 8.9 pct to $67.5 mi...</td>\n",
       "      <td>0.2732</td>\n",
       "      <td>0</td>\n",
       "    </tr>\n",
       "    <tr>\n",
       "      <th>108860</th>\n",
       "      <td>Man Group reports 5.63 pct passive stake in Zu...</td>\n",
       "      <td>0.2023</td>\n",
       "      <td>0</td>\n",
       "    </tr>\n",
       "    <tr>\n",
       "      <th>108861</th>\n",
       "      <td>Zumiez June same store sales rises 5.3 percent</td>\n",
       "      <td>0.0000</td>\n",
       "      <td>0</td>\n",
       "    </tr>\n",
       "  </tbody>\n",
       "</table>\n",
       "<p>108862 rows × 3 columns</p>\n",
       "</div>"
      ],
      "text/plain": [
       "                                                 headline  confidence  class\n",
       "0       Agilent Technologies Q2 GAAP Earnings Per Shar...      0.2960      0\n",
       "1       Agilent PD-L1 Assay Receives FDA Approval For ...      0.4767      1\n",
       "2       Agilent Gets FDA Approval For Pd-L1 Companion ...      0.4767      1\n",
       "3       Agilent Technologies Enters Into Amendment No....      0.7003      1\n",
       "4       Agilent withdraws Q2, FY guidance, cites coron...      0.0000      0\n",
       "...                                                   ...         ...    ...\n",
       "108857  Zumiez Inc September sales rose 12.6 percent t...      0.0000      0\n",
       "108858                 Zumiez Inc Q2 loss per share $0.02     -0.0258      0\n",
       "108859  Zumiez net sales increased 8.9 pct to $67.5 mi...      0.2732      0\n",
       "108860  Man Group reports 5.63 pct passive stake in Zu...      0.2023      0\n",
       "108861     Zumiez June same store sales rises 5.3 percent      0.0000      0\n",
       "\n",
       "[108862 rows x 3 columns]"
      ]
     },
     "execution_count": 223,
     "metadata": {},
     "output_type": "execute_result"
    }
   ],
   "source": [
    "data['class'] = data['confidence'].apply(lambda x: classify(x))\n",
    "data"
   ]
  },
  {
   "cell_type": "markdown",
   "metadata": {},
   "source": [
    "### Note: We will keep only the headline and class columns "
   ]
  },
  {
   "cell_type": "code",
   "execution_count": 224,
   "metadata": {},
   "outputs": [
    {
     "data": {
      "text/html": [
       "<div>\n",
       "<style scoped>\n",
       "    .dataframe tbody tr th:only-of-type {\n",
       "        vertical-align: middle;\n",
       "    }\n",
       "\n",
       "    .dataframe tbody tr th {\n",
       "        vertical-align: top;\n",
       "    }\n",
       "\n",
       "    .dataframe thead th {\n",
       "        text-align: right;\n",
       "    }\n",
       "</style>\n",
       "<table border=\"1\" class=\"dataframe\">\n",
       "  <thead>\n",
       "    <tr style=\"text-align: right;\">\n",
       "      <th></th>\n",
       "      <th>headline</th>\n",
       "      <th>class</th>\n",
       "    </tr>\n",
       "  </thead>\n",
       "  <tbody>\n",
       "    <tr>\n",
       "      <th>0</th>\n",
       "      <td>Agilent Technologies Q2 GAAP Earnings Per Shar...</td>\n",
       "      <td>0</td>\n",
       "    </tr>\n",
       "    <tr>\n",
       "      <th>1</th>\n",
       "      <td>Agilent PD-L1 Assay Receives FDA Approval For ...</td>\n",
       "      <td>1</td>\n",
       "    </tr>\n",
       "    <tr>\n",
       "      <th>2</th>\n",
       "      <td>Agilent Gets FDA Approval For Pd-L1 Companion ...</td>\n",
       "      <td>1</td>\n",
       "    </tr>\n",
       "    <tr>\n",
       "      <th>3</th>\n",
       "      <td>Agilent Technologies Enters Into Amendment No....</td>\n",
       "      <td>1</td>\n",
       "    </tr>\n",
       "    <tr>\n",
       "      <th>4</th>\n",
       "      <td>Agilent withdraws Q2, FY guidance, cites coron...</td>\n",
       "      <td>0</td>\n",
       "    </tr>\n",
       "    <tr>\n",
       "      <th>...</th>\n",
       "      <td>...</td>\n",
       "      <td>...</td>\n",
       "    </tr>\n",
       "    <tr>\n",
       "      <th>108857</th>\n",
       "      <td>Zumiez Inc September sales rose 12.6 percent t...</td>\n",
       "      <td>0</td>\n",
       "    </tr>\n",
       "    <tr>\n",
       "      <th>108858</th>\n",
       "      <td>Zumiez Inc Q2 loss per share $0.02</td>\n",
       "      <td>0</td>\n",
       "    </tr>\n",
       "    <tr>\n",
       "      <th>108859</th>\n",
       "      <td>Zumiez net sales increased 8.9 pct to $67.5 mi...</td>\n",
       "      <td>0</td>\n",
       "    </tr>\n",
       "    <tr>\n",
       "      <th>108860</th>\n",
       "      <td>Man Group reports 5.63 pct passive stake in Zu...</td>\n",
       "      <td>0</td>\n",
       "    </tr>\n",
       "    <tr>\n",
       "      <th>108861</th>\n",
       "      <td>Zumiez June same store sales rises 5.3 percent</td>\n",
       "      <td>0</td>\n",
       "    </tr>\n",
       "  </tbody>\n",
       "</table>\n",
       "<p>108862 rows × 2 columns</p>\n",
       "</div>"
      ],
      "text/plain": [
       "                                                 headline  class\n",
       "0       Agilent Technologies Q2 GAAP Earnings Per Shar...      0\n",
       "1       Agilent PD-L1 Assay Receives FDA Approval For ...      1\n",
       "2       Agilent Gets FDA Approval For Pd-L1 Companion ...      1\n",
       "3       Agilent Technologies Enters Into Amendment No....      1\n",
       "4       Agilent withdraws Q2, FY guidance, cites coron...      0\n",
       "...                                                   ...    ...\n",
       "108857  Zumiez Inc September sales rose 12.6 percent t...      0\n",
       "108858                 Zumiez Inc Q2 loss per share $0.02      0\n",
       "108859  Zumiez net sales increased 8.9 pct to $67.5 mi...      0\n",
       "108860  Man Group reports 5.63 pct passive stake in Zu...      0\n",
       "108861     Zumiez June same store sales rises 5.3 percent      0\n",
       "\n",
       "[108862 rows x 2 columns]"
      ]
     },
     "execution_count": 224,
     "metadata": {},
     "output_type": "execute_result"
    }
   ],
   "source": [
    "data = data.loc[:,['headline','class']]\n",
    "data"
   ]
  },
  {
   "cell_type": "markdown",
   "metadata": {},
   "source": [
    "### 2.4: We will perform preprocessing of the data by \n",
    "#### a. Removing all symbols except a-z and A-Z\n",
    "#### b. Converting the data to lower case\n",
    "#### c. Replacing trailing spaces with single space"
   ]
  },
  {
   "cell_type": "code",
   "execution_count": 193,
   "metadata": {},
   "outputs": [
    {
     "data": {
      "text/html": [
       "<div>\n",
       "<style scoped>\n",
       "    .dataframe tbody tr th:only-of-type {\n",
       "        vertical-align: middle;\n",
       "    }\n",
       "\n",
       "    .dataframe tbody tr th {\n",
       "        vertical-align: top;\n",
       "    }\n",
       "\n",
       "    .dataframe thead th {\n",
       "        text-align: right;\n",
       "    }\n",
       "</style>\n",
       "<table border=\"1\" class=\"dataframe\">\n",
       "  <thead>\n",
       "    <tr style=\"text-align: right;\">\n",
       "      <th></th>\n",
       "      <th>headline</th>\n",
       "      <th>class</th>\n",
       "    </tr>\n",
       "  </thead>\n",
       "  <tbody>\n",
       "    <tr>\n",
       "      <th>0</th>\n",
       "      <td>agilent technologies q gaap earnings per share</td>\n",
       "      <td>0</td>\n",
       "    </tr>\n",
       "    <tr>\n",
       "      <th>1</th>\n",
       "      <td>agilent pd l assay receives fda approval for u...</td>\n",
       "      <td>1</td>\n",
       "    </tr>\n",
       "    <tr>\n",
       "      <th>2</th>\n",
       "      <td>agilent gets fda approval for pd l companion d...</td>\n",
       "      <td>1</td>\n",
       "    </tr>\n",
       "    <tr>\n",
       "      <th>3</th>\n",
       "      <td>agilent technologies enters into amendment no ...</td>\n",
       "      <td>1</td>\n",
       "    </tr>\n",
       "    <tr>\n",
       "      <th>4</th>\n",
       "      <td>agilent withdraws q fy guidance cites coronavi...</td>\n",
       "      <td>0</td>\n",
       "    </tr>\n",
       "    <tr>\n",
       "      <th>...</th>\n",
       "      <td>...</td>\n",
       "      <td>...</td>\n",
       "    </tr>\n",
       "    <tr>\n",
       "      <th>108857</th>\n",
       "      <td>zumiez inc september sales rose percent to mln</td>\n",
       "      <td>0</td>\n",
       "    </tr>\n",
       "    <tr>\n",
       "      <th>108858</th>\n",
       "      <td>zumiez inc q loss per share</td>\n",
       "      <td>0</td>\n",
       "    </tr>\n",
       "    <tr>\n",
       "      <th>108859</th>\n",
       "      <td>zumiez net sales increased pct to million</td>\n",
       "      <td>0</td>\n",
       "    </tr>\n",
       "    <tr>\n",
       "      <th>108860</th>\n",
       "      <td>man group reports pct passive stake in zumiez</td>\n",
       "      <td>0</td>\n",
       "    </tr>\n",
       "    <tr>\n",
       "      <th>108861</th>\n",
       "      <td>zumiez june same store sales rises percent</td>\n",
       "      <td>0</td>\n",
       "    </tr>\n",
       "  </tbody>\n",
       "</table>\n",
       "<p>108862 rows × 2 columns</p>\n",
       "</div>"
      ],
      "text/plain": [
       "                                                 headline  class\n",
       "0         agilent technologies q gaap earnings per share       0\n",
       "1       agilent pd l assay receives fda approval for u...      1\n",
       "2       agilent gets fda approval for pd l companion d...      1\n",
       "3       agilent technologies enters into amendment no ...      1\n",
       "4       agilent withdraws q fy guidance cites coronavi...      0\n",
       "...                                                   ...    ...\n",
       "108857     zumiez inc september sales rose percent to mln      0\n",
       "108858                       zumiez inc q loss per share       0\n",
       "108859          zumiez net sales increased pct to million      0\n",
       "108860      man group reports pct passive stake in zumiez      0\n",
       "108861         zumiez june same store sales rises percent      0\n",
       "\n",
       "[108862 rows x 2 columns]"
      ]
     },
     "execution_count": 193,
     "metadata": {},
     "output_type": "execute_result"
    }
   ],
   "source": [
    "data.replace(\"[^a-zA-Z]\",\" \", regex=True, inplace=True)\n",
    "data['headline'] = data['headline'].str.lower()\n",
    "data['headline'] = data['headline'].replace('\\s+', ' ', regex=True)\n",
    "data"
   ]
  },
  {
   "cell_type": "markdown",
   "metadata": {},
   "source": [
    "### 3: Creating Train and Test data "
   ]
  },
  {
   "cell_type": "markdown",
   "metadata": {},
   "source": [
    "### 3.1: Creating the dependent feature, y that represents if the stock moved up, down or did not move decisvely in any direction"
   ]
  },
  {
   "cell_type": "code",
   "execution_count": 194,
   "metadata": {},
   "outputs": [
    {
     "data": {
      "text/plain": [
       "array([0, 1, 1, ..., 0, 0, 0], dtype=int64)"
      ]
     },
     "execution_count": 194,
     "metadata": {},
     "output_type": "execute_result"
    }
   ],
   "source": [
    "y=data['class'].values\n",
    "y"
   ]
  },
  {
   "cell_type": "markdown",
   "metadata": {},
   "source": [
    "### 3.2: Creating the independent feature, X where each training example is a stock related news headline/ headlines"
   ]
  },
  {
   "cell_type": "code",
   "execution_count": 195,
   "metadata": {},
   "outputs": [
    {
     "data": {
      "text/plain": [
       "array(['agilent technologies q gaap earnings per share ',\n",
       "       'agilent pd l assay receives fda approval for use as companion diagnostic',\n",
       "       'agilent gets fda approval for pd l companion diagnostic on dako omnis',\n",
       "       ..., 'zumiez net sales increased pct to million',\n",
       "       'man group reports pct passive stake in zumiez',\n",
       "       'zumiez june same store sales rises percent'], dtype=object)"
      ]
     },
     "execution_count": 195,
     "metadata": {},
     "output_type": "execute_result"
    }
   ],
   "source": [
    "X=data['headline'].values\n",
    "X"
   ]
  },
  {
   "cell_type": "markdown",
   "metadata": {},
   "source": [
    "### 3.3: Splitting the X and y data into Train and Test data"
   ]
  },
  {
   "cell_type": "code",
   "execution_count": 196,
   "metadata": {},
   "outputs": [],
   "source": [
    "from sklearn.model_selection import train_test_split\n",
    "X_train, X_test, y_train, y_test = train_test_split(X,y,test_size=0.3, random_state=0)"
   ]
  },
  {
   "cell_type": "code",
   "execution_count": 197,
   "metadata": {},
   "outputs": [
    {
     "data": {
      "text/plain": [
       "array(['embraer counts on brazil s public sector funds to approve boeing jv sources',\n",
       "       'dominion energy project over the historic james river wins reprieve from d c circuit',\n",
       "       'walgreens revenue hit by weakness in personal care products otc drugs',\n",
       "       ...,\n",
       "       'google facebook execs meet uk govt ministers over no deal bexit telegraph',\n",
       "       'fiat chrysler s lower cash forecast overshadows special dividend pledge',\n",
       "       'chip gear makers take a beating after micron s dour forecast'],\n",
       "      dtype=object)"
      ]
     },
     "execution_count": 197,
     "metadata": {},
     "output_type": "execute_result"
    }
   ],
   "source": [
    "X_train"
   ]
  },
  {
   "cell_type": "code",
   "execution_count": 198,
   "metadata": {},
   "outputs": [
    {
     "data": {
      "text/plain": [
       "array([ 0,  1,  0, ...,  0,  0, -1], dtype=int64)"
      ]
     },
     "execution_count": 198,
     "metadata": {},
     "output_type": "execute_result"
    }
   ],
   "source": [
    "y_train"
   ]
  },
  {
   "cell_type": "code",
   "execution_count": 199,
   "metadata": {},
   "outputs": [
    {
     "data": {
      "text/plain": [
       "array(['lisala to sell million of echo investment shares',\n",
       "       'bat shares light up as it streamlines new age brands',\n",
       "       's p nasdaq open at record highs on china data initial trade deal',\n",
       "       ...,\n",
       "       'brazil s eletrobras stake could be worth billion source says',\n",
       "       'ebrd buys slice of national bank of greece covered bond',\n",
       "       'comcast and national public radio to launch npr one app on xfinity x '],\n",
       "      dtype=object)"
      ]
     },
     "execution_count": 199,
     "metadata": {},
     "output_type": "execute_result"
    }
   ],
   "source": [
    "X_test"
   ]
  },
  {
   "cell_type": "code",
   "execution_count": 200,
   "metadata": {},
   "outputs": [
    {
     "data": {
      "text/plain": [
       "array([0, 0, 0, ..., 0, 0, 0], dtype=int64)"
      ]
     },
     "execution_count": 200,
     "metadata": {},
     "output_type": "execute_result"
    }
   ],
   "source": [
    "y_test"
   ]
  },
  {
   "cell_type": "markdown",
   "metadata": {},
   "source": [
    "## 4: Training our model using the train data derived after splitting\n",
    "### 4.1: Import the module for vectorizer and training algorithm"
   ]
  },
  {
   "cell_type": "code",
   "execution_count": 201,
   "metadata": {},
   "outputs": [],
   "source": [
    "from sklearn.feature_extraction.text import CountVectorizer\n",
    "from sklearn.ensemble import RandomForestClassifier\n",
    "from sklearn.tree import DecisionTreeClassifier"
   ]
  },
  {
   "cell_type": "markdown",
   "metadata": {},
   "source": [
    "### 4.2: Calling the count vectorizer and fitting on train data"
   ]
  },
  {
   "cell_type": "code",
   "execution_count": 202,
   "metadata": {},
   "outputs": [],
   "source": [
    "# Implementing count vectorizer\n",
    "# vec = CountVectorizer(ngram_range=(2,2))\n",
    "vec = CountVectorizer()\n",
    "X_train = vec.fit_transform(X_train)"
   ]
  },
  {
   "cell_type": "markdown",
   "metadata": {},
   "source": [
    "### 4.3: Calling the training algorithm and fitting on train data"
   ]
  },
  {
   "cell_type": "code",
   "execution_count": 203,
   "metadata": {},
   "outputs": [
    {
     "data": {
      "text/plain": [
       "DecisionTreeClassifier(ccp_alpha=0.0, class_weight=None, criterion='gini',\n",
       "                       max_depth=None, max_features=None, max_leaf_nodes=None,\n",
       "                       min_impurity_decrease=0.0, min_impurity_split=None,\n",
       "                       min_samples_leaf=1, min_samples_split=2,\n",
       "                       min_weight_fraction_leaf=0.0, presort='deprecated',\n",
       "                       random_state=None, splitter='best')"
      ]
     },
     "execution_count": 203,
     "metadata": {},
     "output_type": "execute_result"
    }
   ],
   "source": [
    "#classifier=RandomForestClassifier(n_estimators=200, criterion='entropy')\n",
    "classifier=DecisionTreeClassifier()\n",
    "classifier.fit(X_train, y_train)"
   ]
  },
  {
   "cell_type": "markdown",
   "metadata": {},
   "source": [
    "### 4.4: Vectorizing the test data and predicting the class based on trained model"
   ]
  },
  {
   "cell_type": "code",
   "execution_count": 204,
   "metadata": {},
   "outputs": [],
   "source": [
    "X_test = vec.transform(X_test)\n",
    "y_pred = classifier.predict(X_test)"
   ]
  },
  {
   "cell_type": "markdown",
   "metadata": {},
   "source": [
    "## 5: Analyzing the results\n",
    "### 5.1: Import and run sklearn metrics libraries to analyze results"
   ]
  },
  {
   "cell_type": "code",
   "execution_count": 205,
   "metadata": {},
   "outputs": [],
   "source": [
    "from sklearn.metrics import classification_report, confusion_matrix, accuracy_score"
   ]
  },
  {
   "cell_type": "code",
   "execution_count": 208,
   "metadata": {},
   "outputs": [
    {
     "name": "stdout",
     "output_type": "stream",
     "text": [
      "95.2448023515723\n",
      "[[ 3062   313    15]\n",
      " [  287 22150   426]\n",
      " [   39   473  5894]]\n"
     ]
    }
   ],
   "source": [
    "cm = confusion_matrix(y_pred, y_test)\n",
    "a=accuracy_score(y_pred, y_test)\n",
    "print(a*100)\n",
    "print(cm)"
   ]
  },
  {
   "cell_type": "markdown",
   "metadata": {},
   "source": [
    "#### Results: We are achieving an accuracy of 95% on our test set which is really good"
   ]
  },
  {
   "cell_type": "markdown",
   "metadata": {},
   "source": [
    "### 5.2: Predicting the class for training example"
   ]
  },
  {
   "cell_type": "code",
   "execution_count": 218,
   "metadata": {},
   "outputs": [
    {
     "name": "stdout",
     "output_type": "stream",
     "text": [
      "quarter revenues decreases by go buy it dont buy this one big losses expected \n",
      "['quarter revenues decreases by go buy it dont buy this one big losses expected ']\n",
      "[[0 0 0 ... 0 0 0]]\n",
      "[-1]\n"
     ]
    }
   ],
   "source": [
    "import re\n",
    "headline = \"quarter 2 revenues decreases by 0.25%, go buy it. dont buy this one, big losses expected \"\n",
    "head = re.sub(r'[^a-zA-Z]', ' ', headline)\n",
    "head = head.lower()\n",
    "head = re.sub(' +', ' ', head)\n",
    "print(head)\n",
    "data = [head]\n",
    "print(data)\n",
    "vect = vec.transform(data).toarray()\n",
    "print(vect)\n",
    "pred = classifier.predict(vect)\n",
    "print(pred)"
   ]
  },
  {
   "cell_type": "code",
   "execution_count": 219,
   "metadata": {},
   "outputs": [
    {
     "name": "stdout",
     "output_type": "stream",
     "text": [
      "decreasing movement\n"
     ]
    }
   ],
   "source": [
    "if pred == 1:\n",
    "    print(\"increasing movement\")\n",
    "if pred == 0:\n",
    "    print(\"no decisive movement\")\n",
    "if pred == -1:\n",
    "    print(\"decreasing movement\")"
   ]
  },
  {
   "cell_type": "markdown",
   "metadata": {},
   "source": [
    "#### Result: The prediction made for the single training example looks logical as this news headline would likely affect the stock sentiment adversely "
   ]
  },
  {
   "cell_type": "markdown",
   "metadata": {},
   "source": [
    "### 5.3: Saving our Model and Vectorizer in a .pkl file"
   ]
  },
  {
   "cell_type": "code",
   "execution_count": 209,
   "metadata": {},
   "outputs": [],
   "source": [
    "pickle.dump(classifier, open('classifier.pkl','wb'))\n",
    "pickle.dump(vec, open('vec.pkl','wb'))"
   ]
  }
 ],
 "metadata": {
  "kernelspec": {
   "display_name": "Python 3",
   "language": "python",
   "name": "python3"
  },
  "language_info": {
   "codemirror_mode": {
    "name": "ipython",
    "version": 3
   },
   "file_extension": ".py",
   "mimetype": "text/x-python",
   "name": "python",
   "nbconvert_exporter": "python",
   "pygments_lexer": "ipython3",
   "version": "3.7.6"
  }
 },
 "nbformat": 4,
 "nbformat_minor": 4
}
